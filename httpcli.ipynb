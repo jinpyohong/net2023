{
 "cells": [
  {
   "cell_type": "markdown",
   "metadata": {},
   "source": [
    "# Sample HTTP client\n",
    "1. Create a TCP socket"
   ]
  },
  {
   "cell_type": "code",
   "execution_count": null,
   "metadata": {},
   "outputs": [],
   "source": [
    "import socket\n",
    "\n",
    "s = socket.socket(socket.AF_INET, socket.SOCK_STREAM)"
   ]
  },
  {
   "cell_type": "markdown",
   "metadata": {},
   "source": [
    "2. Connect to the server"
   ]
  },
  {
   "cell_type": "code",
   "execution_count": null,
   "metadata": {},
   "outputs": [],
   "source": [
    "s.connect(('gaia.cs.umass.edu', 80))\n",
    "print(s)"
   ]
  },
  {
   "cell_type": "markdown",
   "metadata": {},
   "source": [
    "3. Create a HTTP request message\n",
    "> TCP는 byte stream으로 전송하기 때문에 unicode string을 그대로 보내서는 안되고, 반드시 byte stream, 인터넷 표준으로서 *UTF-8*로 encoding해야 한다."
   ]
  },
  {
   "cell_type": "code",
   "execution_count": null,
   "metadata": {},
   "outputs": [],
   "source": [
    "request = 'GET /kurose_ross/interactive/index.php HTTP/1.1\\r\\nHost: gaia.cs.umass.edu\\r\\n\\r\\n'\n",
    "s.send(request.encode('utf-8'))"
   ]
  },
  {
   "cell_type": "markdown",
   "metadata": {},
   "source": [
    "4. Receive chunks from the server and complete the reply message(non-persistent mode)\n",
    "> Server 쪽에서 하나의 reply message를 보낸다 해도, 받는 쪽에서는 ```recv()``` 할 시점에서 도착한 byte들만 꺼낼 수 있다. 그러므로 온전한 reply message를 받으려면 다음 중 하나의 방법으로 알아내야 한다.\n",
    " - reply message의 끝까지(즉, server가 connection을 close할 때까지) -- non-persistent HTTP로 작동할 떄 \n",
    " - *Content-length* header에 표기된 길이 -- persistent HTTP인 경우"
   ]
  },
  {
   "cell_type": "code",
   "execution_count": null,
   "metadata": {},
   "outputs": [],
   "source": [
    "received = []\n",
    "while True:\n",
    "    msg = s.recv(2048)\n",
    "    msg = msg.decode('utf-8')\n",
    "    if not msg:   # if empty msg, i.e. server is closing\n",
    "        break\n",
    "    received.append(msg)\n",
    "reply = ''.join(received)\n",
    "print(reply)"
   ]
  },
  {
   "cell_type": "markdown",
   "metadata": {},
   "source": [
    "5. Terminate the connection and close the socket"
   ]
  },
  {
   "cell_type": "code",
   "execution_count": null,
   "metadata": {},
   "outputs": [],
   "source": [
    "s.close()"
   ]
  },
  {
   "cell_type": "markdown",
   "metadata": {},
   "source": [
    "#### Repeat step 2 - 5 until all the objects received"
   ]
  }
 ],
 "metadata": {
  "kernelspec": {
   "display_name": "Python 3",
   "language": "python",
   "name": "python3"
  },
  "language_info": {
   "codemirror_mode": {
    "name": "ipython",
    "version": 3
   },
   "file_extension": ".py",
   "mimetype": "text/x-python",
   "name": "python",
   "nbconvert_exporter": "python",
   "pygments_lexer": "ipython3",
   "version": "3.7.3"
  }
 },
 "nbformat": 4,
 "nbformat_minor": 2
}
