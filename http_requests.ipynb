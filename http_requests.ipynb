{
 "cells": [
  {
   "cell_type": "markdown",
   "metadata": {},
   "source": [
    "# Fetching Internet Pages\n",
    "Socket API를 직접 사용하지 않고 편리하게 이용할 수 있는 흔히 쓰는 방법은\n",
    "\n",
    "1. Python standard library를 사용하거나\n",
    "1. ```request``` module을 설치하여 이용"
   ]
  },
  {
   "cell_type": "markdown",
   "metadata": {},
   "source": [
    "#### 참고: What is URL?\n",
    "Universal Resouce Locator\n",
    "- scheme: protocol\n",
    "- netloc: TCP connection 만들기 위한 server의 hostname(또는 IP 주소)와 port 번호를 알 수 있다.\n",
    "- path: server 내의 path (path가 반드시 server내에 존재하는 파일일 필요는 없다. Web application이 이를 받아 특정 function을 call하여 수행하고 그 결과로서 html 파일을 생성할 수도 있다. - dynamic page)\n",
    "- query string: Web application에 path와 함께 전달된다. Web application은 이것을 input parameter로 생각하여 작업을 수행한다.\n"
   ]
  },
  {
   "cell_type": "code",
   "execution_count": 1,
   "metadata": {},
   "outputs": [
    {
     "name": "stdout",
     "output_type": "stream",
     "text": [
      "ParseResult(scheme='https', netloc='search.naver.com', path='/search.naver', params='', query='sm=top_hty&fbm=1&ie=utf8&query=%EC%BD%94%EB%A1%9C%EB%82%98+%EB%B0%94%EC%9D%B4%EB%9F%AC%EC%8A%A4', fragment='')\n",
      "sm=top_hty&fbm=1&ie=utf8&query=%EC%BD%94%EB%A1%9C%EB%82%98+%EB%B0%94%EC%9D%B4%EB%9F%AC%EC%8A%A4\n"
     ]
    }
   ],
   "source": [
    "from urllib.parse import urlparse, parse_qs, urlencode\n",
    "\n",
    "url = 'https://search.naver.com/search.naver?sm=top_hty&fbm=1&ie=utf8&query=%EC%BD%94%EB%A1%9C%EB%82%98+%EB%B0%94%EC%9D%B4%EB%9F%AC%EC%8A%A4'\n",
    "r = urlparse(url)\n",
    "print(r)\n",
    "print(r.query)"
   ]
  },
  {
   "cell_type": "markdown",
   "metadata": {},
   "source": [
    "Query string의 decoding과 Python dict로 변환"
   ]
  },
  {
   "cell_type": "code",
   "execution_count": 2,
   "metadata": {},
   "outputs": [
    {
     "name": "stdout",
     "output_type": "stream",
     "text": [
      "{'sm': ['top_hty'], 'fbm': ['1'], 'ie': ['utf8'], 'query': ['코로나 바이러스']}\n"
     ]
    }
   ],
   "source": [
    "qs_dict = parse_qs(r.query)   # query sting to dict\n",
    "print(qs_dict)"
   ]
  },
  {
   "cell_type": "markdown",
   "metadata": {},
   "source": [
    "URL 표현방식에 맞춘 encoding"
   ]
  },
  {
   "cell_type": "code",
   "execution_count": 3,
   "metadata": {
    "scrolled": true
   },
   "outputs": [
    {
     "data": {
      "text/plain": [
       "'sm=%5B%27top_hty%27%5D&fbm=%5B%271%27%5D&ie=%5B%27utf8%27%5D&query=%5B%27%EC%BD%94%EB%A1%9C%EB%82%98+%EB%B0%94%EC%9D%B4%EB%9F%AC%EC%8A%A4%27%5D'"
      ]
     },
     "execution_count": 3,
     "metadata": {},
     "output_type": "execute_result"
    }
   ],
   "source": [
    "urlencode(qs_dict)"
   ]
  },
  {
   "cell_type": "markdown",
   "metadata": {},
   "source": [
    "----\n",
    "## `urllib` standard library"
   ]
  },
  {
   "cell_type": "code",
   "execution_count": 4,
   "metadata": {
    "scrolled": true
   },
   "outputs": [
    {
     "name": "stdout",
     "output_type": "stream",
     "text": [
      "<http.client.HTTPResponse object at 0x000001EB1AA9E2B0>\n",
      "200\n",
      "text/html; charset=UTF-8\n"
     ]
    }
   ],
   "source": [
    "from urllib.request import urlopen, urlretrieve\n",
    "\n",
    "f = urlopen(url)\n",
    "print(f)\n",
    "print(f.status)\n",
    "print(f.headers['content-type'])"
   ]
  },
  {
   "cell_type": "markdown",
   "metadata": {},
   "source": [
    "HTTP response는 다음 part로 나눠진다.\n",
    "- status line\n",
    "- header lines\n",
    "- content\n",
    "\n",
    "Status code 200은 request에 대해 성공적으로 회신한다는 의미다. \n",
    "Content가 html text 파일이고 encoding 방식 기술되었으니, 읽어서 UTF-8에서 unicode로 decode해야 함을 알 수 있다. (Web contents는 통상 **UTF-8**으로 encoding되어 있다.)"
   ]
  },
  {
   "cell_type": "code",
   "execution_count": 5,
   "metadata": {},
   "outputs": [
    {
     "name": "stdout",
     "output_type": "stream",
     "text": [
      "<!doctype html> <html lang=\"ko\"><head> <meta charset=\"utf-8\"> <meta name=\"referrer\" content=\"always\">  <meta name=\"format-detection\" content=\"telephone=no,address=no,email=no\"> <meta name=\"viewport\" content=\"width=device-width,initial-scale=1.0,maximum-scale=2.0\"> <meta property=\"og:title\" content=\"코로나 바이러스 : 네이버 통합검색\"/> <meta property=\"og:image\" content=\"https://ssl.pstatic.net/sstatic/search/common/og_v3.png\"> <meta property=\"og:description\" content=\"'코로나 바이러스'의 네이버 통합검색 결과입니다.\"> <meta name=\"d\n"
     ]
    }
   ],
   "source": [
    "text = f.read().decode('UTF-8')\n",
    "print(text[:500])"
   ]
  },
  {
   "cell_type": "markdown",
   "metadata": {},
   "source": [
    "참고: Chrome browser에서 fetch한 web contents를 확인할 수 있다. \n",
    ">    `도구 더보기` >> `개발자 도구`"
   ]
  },
  {
   "cell_type": "code",
   "execution_count": 6,
   "metadata": {},
   "outputs": [
    {
     "data": {
      "text/plain": [
       "27"
      ]
     },
     "execution_count": 6,
     "metadata": {},
     "output_type": "execute_result"
    }
   ],
   "source": [
    "import re\n",
    "\n",
    "image_srcs = re.findall(r'<img.*?src=\"(.*?)\".*?>', text)\n",
    "len(image_srcs)"
   ]
  },
  {
   "cell_type": "markdown",
   "metadata": {},
   "source": [
    "### urlretrieve - retrieve URL resource into local file\n",
    "가져온 HTML content를 보면, 이 page를 완성하기 위해 여러개의 image를 download해야 함을 알 수 있다. \n",
    "\n",
    "urlretrieve funtion은 주어진 url의 content를 (decoding없이) 그대로 가져와 temporary file에 저장하고, file name과 response의 headers를 return한다.\n",
    "\n",
    "저장할 file을 지정하려면, `urlretrieve(url, file_name)`"
   ]
  },
  {
   "cell_type": "code",
   "execution_count": 7,
   "metadata": {
    "scrolled": true
   },
   "outputs": [
    {
     "name": "stdout",
     "output_type": "stream",
     "text": [
      "C:\\Users\\jphong\\AppData\\Local\\Temp\\tmpytrk3_wp\n",
      "accept-ranges: bytes\n",
      "cache-control: max-age=86400\n",
      "content-length: 1387\n",
      "content-type: image/png\n",
      "expires: Sat, 24 Jun 2023 10:03:25 GMT\n",
      "last-modified: Fri, 23 Jun 2023 10:03:25 GMT\n",
      "p3p: CP=\"ALL CURa ADMa DEVa TAIa OUR BUS IND PHY ONL UNI PUR FIN COM NAV INT DEM CNT STA POL HEA PRE LOC OTC\"\n",
      "date: Fri, 23 Jun 2023 10:03:25 GMT\n",
      "age: 19915\n",
      "server: Testa/6.1.4\n",
      "strict-transport-security: max-age=31536000\n",
      "connection: close\n",
      "\n",
      "\n"
     ]
    }
   ],
   "source": [
    "file_name, headers = urlretrieve(image_srcs[0])\n",
    "print(file_name)\n",
    "print(headers)"
   ]
  },
  {
   "cell_type": "code",
   "execution_count": 8,
   "metadata": {},
   "outputs": [
    {
     "name": "stdout",
     "output_type": "stream",
     "text": [
      "b'\\x89PNG\\r\\n\\x1a\\n\\x00\\x00\\x00\\rIHDR\\x00\\x00\\x00\\x1e\\x00\\x00\\x00\\x1e\\x08\\x06\\x00\\x00\\x00;0\\xae\\xa2\\x00\\x00\\x052IDATH\\xc7\\xb5\\x97}L\\x13w\\x18\\xc7\\x9f{\\xe9\\xb5\\xb5\\xf4\\x8dk\\xa1\\\\\\xb1\\xbc\\xd8\\x03J\\x85\\x16\\x84\\xc2oG\\x84\\xaa\\x7f(F\\xf0\\rD\\xa6+\\x86\\xdb\\x16\\x97\\x98,\\xd3?N;\\xf0mn\\xbe%\\xc6\\x855\\x9b\\x8b\\x893,ls\\xcddq\\xba8\\xb3\\xcd\\x98\\xcd\\xb8\\x99,8\\x93E\\x83\\x99\\x8e8\\x99rns\\x11\\x98 ,W\\xae\\xee\\xa8\\xbc\\x14\\xc5o\\xf2\\xfcqw\\xbf\\xe7\\xf9\\xe4y\\xee\\xf9=\\xf7;\\x10\\x04ar\\xdb\\x12\\xc4\\x84`\\xb3V8\\xf0\\x01+\\x84\\xc2\\xb5B(\\xbcY\\x08\\x85\\xdf\\x92m\\x8b\\x10\\n\\xaf\\x12B\\xe1la\\xfbnmdm\\x1c1\\'\\x16I\\xe1\\x90\\x94\\xcd\\x82\\xb7f\\x07 \\xfeg@\\xfc  ~Xi\\x18\\xe2\\x87\\xf1\\x91\\xeb\\x87\\x80\\xf8\\xcb\\xe0\\xad\\xd9\\x19\\xf1\\x91|\\x9fH\\xd6\\xacd\\xf0\\xac\\xd8\\x03\\x88\\xbf\\xab\\x04%\\xfb\\x1a\\xfa\\xcb\\n\\xea{\\x9b\\\\U\\xdd\\xef\\xb1\\x95}G\\x9c\\x0b\\x87\\x8f8\\x17\\x0e\\xbd\\xcbV\\xf6\\xbe\\xee\\xaa\\xee\\x96\\x9e%\\xf9\\x1a\\xba\\xc1\\xb3b_$F\\xdc\"5\\x18\\xd8\\xdc\\xe5P\\xb2\\xaeC\\tL+\\x0e\\xf4o\\xcd\\xa9\\xfa\\xeb\\xa2\\xc3\\xffO\\x0f\\xc3=\\x14\\x19nx,\\xeba\\xb8\\xc1\\x1f\\x1d\\xfe\\xfb\\xcd\\xae*qf\\xd1\\x9a\\x1f\"\\xb1H\\xcdd\\xa5\\xd5`\\xe0^\\xbc\\n\\x10\\xffG\\x14H\\xa2\\xc6\\xa1\\xd5y5\\x7fw8*\\xee\\x8b\\x0c7$\\xc3\\x1e\\x88\\x0cw[d\\xb8\\x9b\"\\xc3\\xfd\\xa9\\xb8?\\xca~rT\\xf4\\xae\\xc9[y\\x95\\xcc\\xad\\xac\\x89\\xc4\\x1eW\\xac\\xbf\\n\\x10\\xdf\\x13\\x85\\x12\\x88\\x1f\\xda\\x95\\xb3\\xa4\\xe7\\x96\\xbdlPd8\\xf1rrqk\\x8b\\x89\\xad\\x7fY\\xc7\\xe4\\xb2\\xa4v&Kj\\xeds(}z\\x8b\\x89-n1\\xb1\\x1b\\xae\\xda|\\xa7D\\x86\\xebS\\xc2o\\xd9\\xcb\\x06v\\xe6,\\xb9\\xa6u\\x96/\\x1a\\x1bk\\xcd\\xca\\x81\\x92u\\xd7\\x95\\xe5mrU\\xdd\\xbe\\xc3p\\xfd\\xd7l%-\\x1b\\x12\\xec\\x19&\\x9c$&*\\x98\\x19\\'\\xd5\\x9b\\xf43\\xbd])\\xe8\\x13e\\x15n3\\xdc\\xd0\\x9e\\xac\\xca\\x0e\\xb5\\xc5\\x995\\xdaCc\\xd0@ic\\xbb\\x12\\xba\\xc0[w\\xaf\\xdb^v\\xe7\\xb09\\xbb\\x92\\xc2\\xf0)u\\xa8\\x1a\\xc3\\x89c\\xb4\\xbbVd\\xb8\\xbbQ\\xb8\\xd4\\x17\\x1b]\\xd5m\\xb8Z\\xaf\\x95\\x97a\\x00\\xce\\xf2\\xa5\\xf2v\\x88@\\xb5\\xa5\\x8d\\x83\\xdf\\xa7\\xcd\\xfb\\xfd\\xb09{.<\\xa1\\x08\\xc0\\xe0\\xa3\\xc4\\\\\\x9f\\xc8p\\xbfE\\xe17\\xede}\\xe5\\xa9EK\"L\\xd0\\x18\\xd4\\x80\\xf8\\xb3\\xcal\\xab<\\xb5\\xf7>\\xa6\\xdd\\x1b\\t\\xc00x\\ni0\\x1cZ\\x13]~\\xa9?\\xa2\\xf0o\\xd3\\xe7\\x7fm\\xa4tj\\x00Gq> ~@\\tn\\xc9\\xaa\\xbc\\x80(\\x03\\r\\xd3\\xa0\\x04\\x8c\\xc0O[\\xf2_\\x13\\x19nP.\\xf9\\xc0\\x0b\\x89l\\x11@\\xd6\\xbc\\xcd\\xb1\\xd3\\xe8\\xa8c\\xee^\\x13N\\xe20M\\xf2\\xabM\\xa6N[\\xc9\\xf9h\\xd6\\x87\\xcd\\xd9A\\x00\\xc4\\x9f\\x8c\\x05\\xd7\\xd9<\\xeba\\x9a\\xb5\\xdf8+\\x10\\xcdZd\\xb8\\x93\\x12\\xf8\\xd7X\\xf0lGIc\\xdcXBE@j\\x01\\x07\\x85u;\\xa0\\xb0\\xee\\x10\\x14\\xd6m\\x07&\\xef9\\xc0F\\xf7\\xc7|\\xb5\\x99\\x11\\x19\\xee\\xba\\x0c\\xbe!\\x81\\xfbb\\xc1\\xaa\\xbc\\xea\\x03@\\x90\\x937\\x96)U\\x0f\\xbe@+ \\xbe?&F?\\x14\\xaf\\xf9\\x10\\x12\\xac\\xfaGC\\x110\\xec\\x9c\\xb5\\xe0\\xf3\\xe8\\xe4\\x83X\\xa8l]`\\xc9\\xb4M\\x085\\xa4\\x90\\x80\\xf8\\x13\\xe3\\xf8\\x8f\\x98\\xaf\\xe1\\x04\\xe8,T\\xd4\\xe5\\xac\\xd5\\xbb-\\xfa\\x9e%p\\xef\\x98N\\x9e\\xe5\\xad\\xa01\\xe8\\xc6)\\xaf\\n\\xdc\\x8b\\x9b&\\x84\\x8e\\xd8\\x00\\xb0\\xfez\\x05\\x98\\x97\\xc1}\\x12\\xb8s\\\\\\xc7\\xd2\\xc6\\xe3\\x90\\x94]\\x08:Z\\x07\\xd4\\x0c\\x00\\x1d\\xad\\x01\\xcb,\\x17\\xe4-\\r\\xc5n\\xc1q\\xcd\\xbb\\xb2]\\x01^+\\x83;%p\\xfb$\\xce\\xf7\\x00\\xf1\\xe7\\xa1`\\x95T\\xd6s\\x80\\xf8;q\\x01\\xff/\\xf7/\\xa0OR\\xc9\\xe0\\xf52\\xb8]\\x1a\\x97\\x9b\\xa6\\x14h\\xaa\\xe6\\x0b\\\\\\x81\\x04+%\\x83\\xf7H\\xe0\\x90\\x89\\xdd$M\\xae\\x1c@\\xfc\\x83g\\x06\\xf6\\xae\\xfcB\\x82\\xa6\\x10\\x14\\xd6\\x91\\\\tZ\\xea\\xe8fCZ\\x0e\\x00\\xa5S\\x01\\xe2O=#\\xf0 8+^\\x94\\xf7q\\x9a\\xc8p]\"\\xc3}\\x99BP\\xaa\\x91\\xb7\\x9e\\xc9\\xf9\\x9fI\\xd6\\xbe@\\'\\xe8h\\xa34{\\x8f\\xd3\\xb3\\x1bE\\x86\\xfbw\\xbfq\\xd6\\x82\\xd1\\xdb#\\x7f\\xd9\\xfb\\x80\\xf8\\xa1i\\x04\\x0f\\x00[\\xb1V\\n?Wm4\\x8a\\x0cw\\xe1f\\n:j\\'\\xd4\\xd4\\xe8\\xbdIg\\xd8\\xc1\\xd7pq\\xda\\xc0E\\xcf\\xb7\\x81\\xd6\\x84S\\x18\\x86}F\\xbb_\\xe9J)\\xbdT\\xad\\xb5\\xa4\\x8f=\\x8d\\xe8L\\x0f\\xf8\\x02\\x97\\x9f\\x1eZ\\x7f\\x06f\\x98\\x13U\\x18\\x06\\xbb\\x8c\\x19\\x05R\\xb6o\\x9b\\x9c\\x93\\x1c*\\xe8\\xcc\\\\\\xf05|\\xa3<\\x91L\\xa9\\xbcsV\\xb7\\x81.1r\\x9e.\\xa6\\xf4RC\\x1dkK\\xcc]`\\xc4\\xc98\\xbe8t\\x86\\x19\\xf2\\x97\\x05\\x01\\xf1\\xb7\\xe2\\x04J\\xbdq\\x05r\\x17\\xbd\\x14\\x99r\\x00\\xf0\\xa61\\xc3y)\\xb9ho\\xad\\xd6\\x9ao\\xc0\\'<#>6\\x8f1\\xb08S\\xc1Y\\xfe* \\xfe+@\\xbc8\\x06\\xec\\x06\\xf8\\x02\\x9fB&\\xb7\\x16\\x8c\\x8c\\x15p\\x02s\\x92Z\\xec\\xa0\\xc9Yr\\xc6\\xeaY\\xbeXC?\\xfa:=\\xa6\\xb8~\\xda\\x82\\xcd*a\\xfbn\\x83\\x10\\n\\xa7\\t\\xa1p\\x9e\\x10\\n\\xbb\\x85P8Y\\x086\\xeb\\x84`\\x13\\x19]w(\\xb8\\rz\\xdex\\xc7\\xf6\\xdd\\xb6}\\xfa\\xad\\xc2\\xe6\\xf1\\x7f\\xde\\x04\\x01\\xfe\\x03\\xda~\\xaa\\xcdMbs\\xc1\\x00\\x00\\x00\\x00IEND\\xaeB`\\x82'\n"
     ]
    }
   ],
   "source": [
    "with open(file_name, 'rb') as f:  # open in binary mode\n",
    "    print(f.read())"
   ]
  },
  {
   "cell_type": "markdown",
   "metadata": {},
   "source": [
    "----\n",
    "# `requests` library\n",
    "`urlopen`과 비슷한 `requests` module도 많이 사용되고 있다. Standard module이 아니기 때문에 이 모듈을 쓰기 위해서는 설치해야 한다. (Anaconda package에는 이미 설치되어 있다.)\n",
    "\n",
    "명령창에서\n",
    "- `$ pip install requests`\n",
    "\n",
    "참고: Requests: HTTP for Humans https://requests.readthedocs.io/en/master/"
   ]
  },
  {
   "cell_type": "code",
   "execution_count": 9,
   "metadata": {},
   "outputs": [
    {
     "name": "stdout",
     "output_type": "stream",
     "text": [
      "<Response [200]>\n",
      "200\n",
      "True\n"
     ]
    }
   ],
   "source": [
    "import requests\n",
    "\n",
    "# send GET method and receive response message\n",
    "response = requests.get('https://search.naver.com/search.naver',\n",
    "                       params={'query': '코로나 바이러스'})    \n",
    "# response is an class instance\n",
    "print(response)\n",
    "print(response.status_code)\n",
    "print(bool(response))         # successful including 200, 204, 304, ..."
   ]
  },
  {
   "cell_type": "code",
   "execution_count": 10,
   "metadata": {
    "scrolled": true
   },
   "outputs": [
    {
     "name": "stdout",
     "output_type": "stream",
     "text": [
      "UTF-8\n",
      "<!doctype html> <html lang=\"ko\"><head> <meta charset=\"utf-8\"> <meta name=\"referrer\" content=\"always\">  <meta name=\"format-detection\" content=\"telephone=no,address=no,email=no\"> <meta name=\"viewport\" c\n"
     ]
    }
   ],
   "source": [
    "# response.content            # body of response message (bytes)\n",
    "print(response.encoding)      # guess the encoding based on response's headers\n",
    "print(response.text[:200])    # decoded text"
   ]
  },
  {
   "cell_type": "code",
   "execution_count": 11,
   "metadata": {
    "scrolled": true
   },
   "outputs": [
    {
     "name": "stdout",
     "output_type": "stream",
     "text": [
      "{'Date': 'Fri, 23 Jun 2023 15:35:20 GMT', 'Content-Type': 'text/html; charset=UTF-8', 'Transfer-Encoding': 'chunked', 'Connection': 'keep-alive', 'Set-Cookie': 'page_uid=i5TJXsprvN8ssZ37VzlssssssEo-295559; path=/; domain=.naver.com, _naver_usersession_=uy6p0BdQeWz2zWSm1T3Lwg==; path=/; expires=Fri, 23-Jun-23 15:40:20 GMT; domain=.naver.com, nx_ssl=2; Domain=.naver.com; Path=/; Expires=Sun, 23-Jul-2023 15:35:20 GMT;', 'X-Frame-Options': 'SAMEORIGIN', 'X-XSS-Protection': '1; report=/p/er/post/xss', 'Cache-Control': 'no-cache, no-store, must-revalidate, max-age=0', 'Pragma': 'no-cache', 'Referrer-Policy': 'unsafe-url', 'Vary': 'Accept-Encoding', 'Content-Encoding': 'gzip', 'Server': 'nxg', 'Accept-CH': 'Sec-CH-UA, Sec-CH-UA-Arch, Sec-CH-UA-Bitness, Sec-CH-UA-Full-Version-List, Sec-CH-UA-Mobile, Sec-CH-UA-Model, Sec-CH-UA-Platform, Sec-CH-UA-Platform-Version, Sec-CH-UA-WoW64'}\n"
     ]
    }
   ],
   "source": [
    "print(response.headers)    # headers of response message"
   ]
  },
  {
   "cell_type": "code",
   "execution_count": 12,
   "metadata": {
    "scrolled": false
   },
   "outputs": [
    {
     "data": {
      "text/plain": [
       "{'User-Agent': 'python-requests/2.21.0', 'Accept-Encoding': 'gzip, deflate', 'Accept': '*/*', 'Connection': 'keep-alive'}"
      ]
     },
     "execution_count": 12,
     "metadata": {},
     "output_type": "execute_result"
    }
   ],
   "source": [
    "response.request.headers"
   ]
  },
  {
   "cell_type": "markdown",
   "metadata": {},
   "source": [
    "### Handling JSON response"
   ]
  },
  {
   "cell_type": "code",
   "execution_count": 13,
   "metadata": {},
   "outputs": [
    {
     "name": "stdout",
     "output_type": "stream",
     "text": [
      "application/json; charset=utf-8\n",
      "{\"total_count\":20989,\"incomplete_results\":false,\"items\":[{\"id\":4290214,\"node_id\":\"MDEwOlJlcG9zaXRvcnk0MjkwMjE0\",\"name\":\"grequests\",\"full_name\":\"spyoungtech/grequests\",\"private\":false,\"owner\":{\"login\":\n"
     ]
    }
   ],
   "source": [
    "import requests\n",
    "\n",
    "# Search GitHub's repositories for requests\n",
    "response = requests.get(\n",
    "    'https://api.github.com/search/repositories',\n",
    "    params={'q': 'requests+language:python'},\n",
    ")\n",
    "\n",
    "print(response.headers['content-type'])\n",
    "print(response.text[:200])"
   ]
  },
  {
   "cell_type": "code",
   "execution_count": 14,
   "metadata": {
    "scrolled": true
   },
   "outputs": [
    {
     "name": "stdout",
     "output_type": "stream",
     "text": [
      "Repository name: grequests\n",
      "Repository description: Requests + Gevent = <3\n"
     ]
    }
   ],
   "source": [
    "# Inspect some attributes of the `requests` repository\n",
    "json_response = response.json()     # convert json content to Python \n",
    "repository = json_response['items'][0]\n",
    "print(f'Repository name: {repository[\"name\"]}')  # Python 3.6+\n",
    "print(f'Repository description: {repository[\"description\"]}')  # Python 3.6+"
   ]
  },
  {
   "cell_type": "markdown",
   "metadata": {},
   "source": [
    "### HTTP POST method\n",
    "참고: https://httbin.org site는 requests module 저자가 시험용으로 만든 site다. 여러가지 HTTP method들에 대해, 받은 request message를 json 등의 내용으로 회신해 준다."
   ]
  },
  {
   "cell_type": "code",
   "execution_count": 15,
   "metadata": {},
   "outputs": [
    {
     "name": "stdout",
     "output_type": "stream",
     "text": [
      "{'Date': 'Fri, 23 Jun 2023 15:35:56 GMT', 'Content-Type': 'application/json', 'Content-Length': '479', 'Connection': 'keep-alive', 'Server': 'gunicorn/19.9.0', 'Access-Control-Allow-Origin': '*', 'Access-Control-Allow-Credentials': 'true'}\n",
      "{\n",
      "  \"args\": {}, \n",
      "  \"data\": \"\", \n",
      "  \"files\": {}, \n",
      "  \"form\": {\n",
      "    \"key\": \"value\"\n",
      "  }, \n",
      "  \"headers\": {\n",
      "    \"Accept\": \"*/*\", \n",
      "    \"Accept-Encoding\": \"gzip, deflate\", \n",
      "    \"Content-Length\": \"9\", \n",
      "    \"Content-Type\": \"application/x-www-form-urlencoded\", \n",
      "    \"Host\": \"httpbin.org\", \n",
      "    \"User-Agent\": \"python-requests/2.21.0\", \n",
      "    \"X-Amzn-Trace-Id\": \"Root=1-6495bbba-68d129bd5a1c562641221957\"\n",
      "  }, \n",
      "  \"json\": null, \n",
      "  \"origin\": \"118.34.152.67\", \n",
      "  \"url\": \"https://httpbin.org/post\"\n",
      "}\n",
      "\n",
      "{'args': {}, 'data': '', 'files': {}, 'form': {'key': 'value'}, 'headers': {'Accept': '*/*', 'Accept-Encoding': 'gzip, deflate', 'Content-Length': '9', 'Content-Type': 'application/x-www-form-urlencoded', 'Host': 'httpbin.org', 'User-Agent': 'python-requests/2.21.0', 'X-Amzn-Trace-Id': 'Root=1-6495bbba-68d129bd5a1c562641221957'}, 'json': None, 'origin': '118.34.152.67', 'url': 'https://httpbin.org/post'}\n"
     ]
    }
   ],
   "source": [
    "r = requests.post('https://httpbin.org/post', data={'key': 'value'})\n",
    "print(r.headers)\n",
    "if r:\n",
    "    print(r.text)\n",
    "    if 'application/json' in r.headers['content-type']:\n",
    "        json_r = r.json()\n",
    "        print(json_r)"
   ]
  },
  {
   "cell_type": "code",
   "execution_count": 16,
   "metadata": {},
   "outputs": [
    {
     "name": "stdout",
     "output_type": "stream",
     "text": [
      "https://httpbin.org/post\n",
      "{'User-Agent': 'python-requests/2.21.0', 'Accept-Encoding': 'gzip, deflate', 'Accept': '*/*', 'Connection': 'keep-alive', 'Content-Length': '9', 'Content-Type': 'application/x-www-form-urlencoded'}\n",
      "key=value\n"
     ]
    }
   ],
   "source": [
    "print(r.request.url)\n",
    "print(r.request.headers)\n",
    "print(r.request.body)"
   ]
  }
 ],
 "metadata": {
  "kernelspec": {
   "display_name": "Python 3",
   "language": "python",
   "name": "python3"
  },
  "language_info": {
   "codemirror_mode": {
    "name": "ipython",
    "version": 3
   },
   "file_extension": ".py",
   "mimetype": "text/x-python",
   "name": "python",
   "nbconvert_exporter": "python",
   "pygments_lexer": "ipython3",
   "version": "3.7.3"
  }
 },
 "nbformat": 4,
 "nbformat_minor": 2
}
